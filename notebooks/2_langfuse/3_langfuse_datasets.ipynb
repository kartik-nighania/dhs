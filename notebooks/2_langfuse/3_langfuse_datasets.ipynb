{
 "cells": [
  {
   "cell_type": "code",
   "execution_count": 1,
   "metadata": {},
   "outputs": [],
   "source": [
    "# ! pip install -r ../../requirements.txt"
   ]
  },
  {
   "cell_type": "markdown",
   "metadata": {},
   "source": [
    "# Datasets Demo"
   ]
  },
  {
   "cell_type": "code",
   "execution_count": 2,
   "metadata": {},
   "outputs": [
    {
     "data": {
      "text/plain": [
       "True"
      ]
     },
     "execution_count": 2,
     "metadata": {},
     "output_type": "execute_result"
    }
   ],
   "source": [
    "import dotenv\n",
    "\n",
    "dotenv.load_dotenv()"
   ]
  },
  {
   "cell_type": "code",
   "execution_count": 3,
   "metadata": {},
   "outputs": [],
   "source": [
    "from langfuse import Langfuse\n",
    "import openai\n",
    "\n",
    "langfuse = Langfuse()"
   ]
  },
  {
   "cell_type": "markdown",
   "metadata": {},
   "source": [
    "### Dataset creation and with items"
   ]
  },
  {
   "cell_type": "code",
   "execution_count": 5,
   "metadata": {},
   "outputs": [
    {
     "data": {
      "text/plain": [
       "Dataset(id='clyiikikh000gyr1oo42ded9d', name='capital_cities', description=None, metadata=None, project_id='clyh2woye002b11ttb0hca5j6', created_at=datetime.datetime(2024, 7, 12, 9, 47, 6, 881000, tzinfo=datetime.timezone.utc), updated_at=datetime.datetime(2024, 7, 13, 5, 33, 58, 176000, tzinfo=datetime.timezone.utc))"
      ]
     },
     "execution_count": 5,
     "metadata": {},
     "output_type": "execute_result"
    }
   ],
   "source": [
    "dataset_name = \"capital_cities\"\n",
    "langfuse.create_dataset(name = dataset_name)"
   ]
  },
  {
   "cell_type": "code",
   "execution_count": 6,
   "metadata": {},
   "outputs": [],
   "source": [
    "local_items = [\n",
    "    {\"input\": {\"country\": \"Italy\"}, \"expected_output\": \"Rome\"},\n",
    "    {\"input\": {\"country\": \"Spain\"}, \"expected_output\": \"Madrid\"},\n",
    "    {\"input\": {\"country\": \"Brazil\"}, \"expected_output\": \"Brasília\"},\n",
    "    {\"input\": {\"country\": \"Japan\"}, \"expected_output\": \"Tokyo\"},\n",
    "    {\"input\": {\"country\": \"India\"}, \"expected_output\": \"New Delhi\"},\n",
    "    {\"input\": {\"country\": \"Canada\"}, \"expected_output\": \"Ottawa\"},\n",
    "    {\"input\": {\"country\": \"South Korea\"}, \"expected_output\": \"Seoul\"},\n",
    "    {\"input\": {\"country\": \"Argentina\"}, \"expected_output\": \"Buenos Aires\"},\n",
    "    {\"input\": {\"country\": \"South Africa\"}, \"expected_output\": \"Pretoria\"},\n",
    "    {\"input\": {\"country\": \"Egypt\"}, \"expected_output\": \"Cairo\"},\n",
    "]"
   ]
  },
  {
   "cell_type": "code",
   "execution_count": 7,
   "metadata": {},
   "outputs": [],
   "source": [
    "# for item in local_items:\n",
    "#     langfuse.create_dataset_item(\n",
    "#         dataset_name = dataset_name,\n",
    "#         input = item[\"input\"],\n",
    "#         expected_output = item[\"expected_output\"],\n",
    "#     )"
   ]
  },
  {
   "cell_type": "markdown",
   "metadata": {},
   "source": [
    "### Using Langchain with Datasets\n",
    "- Fetch the dataset from Langfuse\n",
    "- Experiment with different system prompts to see which is the best\n",
    "- generate evaluation metrics and upload it to dataset runs"
   ]
  },
  {
   "cell_type": "code",
   "execution_count": 9,
   "metadata": {},
   "outputs": [],
   "source": [
    "def simple_evaluation(output, expected_output):\n",
    "  return output == expected_output"
   ]
  },
  {
   "cell_type": "code",
   "execution_count": 18,
   "metadata": {},
   "outputs": [],
   "source": [
    "from langchain.prompts import ChatPromptTemplate\n",
    "from langchain_openai import ChatOpenAI\n",
    "from langchain_core.output_parsers import StrOutputParser\n",
    "from langchain_core.prompts import ChatPromptTemplate, MessagesPlaceholder\n",
    "from langchain_core.messages import HumanMessage\n",
    "\n",
    "def get_llm_output(input_message, system_message, langfuse_handler):\n",
    "    prompt = ChatPromptTemplate.from_messages(\n",
    "        [\n",
    "            (\"system\", system_message),\n",
    "            MessagesPlaceholder(variable_name=\"input_message\")\n",
    "        ]\n",
    "    )\n",
    "\n",
    "    # the model to be used\n",
    "    # in CI either we can directly connect to it or run on CPU\n",
    "    chat = ChatOpenAI(model = \"gpt-3.5-turbo\")\n",
    "    chain = prompt | chat | StrOutputParser()\n",
    "\n",
    "    response = chain.invoke(\n",
    "    input = {\"input_message\": [HumanMessage(input_message)]},\n",
    "    config={\"callbacks\": [langfuse_handler]}\n",
    "    )\n",
    "\n",
    "    return response"
   ]
  },
  {
   "cell_type": "code",
   "execution_count": 16,
   "metadata": {},
   "outputs": [],
   "source": [
    "\n",
    "from tqdm import tqdm\n",
    "\n",
    "def run_system_prompt_on_dataset(experiment_name, system_message):\n",
    "    dataset = langfuse.get_dataset(name = dataset_name)\n",
    "\n",
    "    for item in tqdm(dataset.items):\n",
    "        langfuse_handler = item.get_langchain_handler(run_name=experiment_name)\n",
    "\n",
    "        completion = get_llm_output(\n",
    "            input_message=item.input[\"country\"],\n",
    "            system_message=system_message,\n",
    "            langfuse_handler=langfuse_handler\n",
    "        )\n",
    "\n",
    "        evaluation = simple_evaluation(item.expected_output, completion)\n",
    "\n",
    "        # output added by the langchain callback\n",
    "        langfuse_handler.trace.score(\n",
    "            name=\"exact_match\",\n",
    "            value=evaluation,\n",
    "            data_type='BOOLEAN'\n",
    "        )\n",
    "\n",
    "    langfuse.flush()        "
   ]
  },
  {
   "cell_type": "code",
   "execution_count": 19,
   "metadata": {},
   "outputs": [
    {
     "name": "stderr",
     "output_type": "stream",
     "text": [
      "100%|██████████| 10/10 [00:13<00:00,  1.32s/it]\n",
      " 40%|████      | 4/10 [00:05<00:07,  1.27s/it]"
     ]
    }
   ],
   "source": [
    "run_system_prompt_on_dataset(\n",
    "    \"directly_ask_without_parser\",\n",
    "    \"What is the capital of the following country?\"\n",
    ")\n",
    "run_system_prompt_on_dataset(\n",
    "    \"langchain_asking_specifically\",\n",
    "    \"The user will input countries, respond with only the name of the capital\"\n",
    ")\n",
    "run_system_prompt_on_dataset(\n",
    "    \"langchain_asking_specifically_2nd_try\",\n",
    "    \"The user will input countries, respond with only the name of the capital. State only the name of the city.\"\n",
    ")"
   ]
  }
 ],
 "metadata": {
  "kernelspec": {
   "display_name": "venv",
   "language": "python",
   "name": "python3"
  },
  "language_info": {
   "codemirror_mode": {
    "name": "ipython",
    "version": 3
   },
   "file_extension": ".py",
   "mimetype": "text/x-python",
   "name": "python",
   "nbconvert_exporter": "python",
   "pygments_lexer": "ipython3",
   "version": "3.10.12"
  }
 },
 "nbformat": 4,
 "nbformat_minor": 2
}
