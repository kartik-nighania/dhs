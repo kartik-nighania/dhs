{
 "cells": [
  {
   "cell_type": "markdown",
   "metadata": {},
   "source": [
    "- Setup a Langchain project and get credentials"
   ]
  },
  {
   "cell_type": "code",
   "execution_count": 1,
   "metadata": {},
   "outputs": [
    {
     "data": {
      "text/plain": [
       "True"
      ]
     },
     "execution_count": 1,
     "metadata": {},
     "output_type": "execute_result"
    }
   ],
   "source": [
    "import dotenv\n",
    "\n",
    "# OPENAI_API_KEY\n",
    "# LANGFUSE_SECRET_KEY\n",
    "# LANGFUSE_PUBLIC_KEY\n",
    "# LANGFUSE_HOST=\"https://cloud.langfuse.com\"\n",
    "\n",
    "dotenv.load_dotenv('./env.txt')"
   ]
  },
  {
   "cell_type": "markdown",
   "metadata": {},
   "source": [
    "# Playground demo\n",
    "\n",
    "- playground lets us experiment with different prompts based on our use cases\n",
    "- once a prompt gives stable output we can then store it for future use\n"
   ]
  },
  {
   "cell_type": "code",
   "execution_count": 41,
   "metadata": {},
   "outputs": [],
   "source": [
    "message = \"\"\"\n",
    "Answer this question using the provided context only.\n",
    "\n",
    "{question}\n",
    "\n",
    "Context:\n",
    "{context}\n",
    "\"\"\""
   ]
  },
  {
   "cell_type": "markdown",
   "metadata": {},
   "source": [
    "# Prompt management demo\n",
    "- use can then version and use these prompts in production\n",
    "- prompts are fetch in real-time and therefore can be used to quicky change the application behaviour"
   ]
  },
  {
   "cell_type": "markdown",
   "metadata": {},
   "source": [
    "# Decorator based integration"
   ]
  },
  {
   "cell_type": "code",
   "execution_count": 42,
   "metadata": {},
   "outputs": [],
   "source": [
    "from langfuse.decorators import observe, langfuse_context\n",
    "import openai\n",
    " \n",
    "\n",
    "# decorator to monitor trace\n",
    "@observe(as_type=\"generation\")\n",
    "def call_openai(session_id, user_id, **kwargs):\n",
    "\n",
    "  # add metadata to the context\n",
    "  langfuse_context.update_current_observation(\n",
    "      input=kwargs[\"messages\"],\n",
    "      model=kwargs[\"model\"],\n",
    "      metadata={\"max_tokens\": kwargs[\"max_tokens\"], \"type\": \"testing\"}\n",
    "  )\n",
    "\n",
    "  # optional arguments\n",
    "  langfuse_context.update_current_trace(\n",
    "    session_id=session_id, \n",
    "    user_id=user_id, \n",
    "    metadata={\"is_openai\": bool(\"gpt\" in kwargs[\"model\"])}\n",
    ")\n",
    " \n",
    "  # return value also monitored\n",
    "  return openai.chat.completions.create(**kwargs).choices[0].message.content\n",
    " \n",
    "@observe()\n",
    "def main(session_id = \"\", user_id = \"\"):\n",
    "  return call_openai(\n",
    "    session_id,\n",
    "    user_id,\n",
    "      model=\"gpt-4o-mini\",\n",
    "      max_tokens=200,\n",
    "      messages=[\n",
    "          {\"role\": \"user\", \"content\": \"What is the meaning of life ?\"}\n",
    "      ],\n",
    "      \n",
    "  )\n",
    " "
   ]
  },
  {
   "cell_type": "code",
   "execution_count": 43,
   "metadata": {},
   "outputs": [
    {
     "data": {
      "text/plain": [
       "'The meaning of life is a philosophical question that has been debated for centuries. Different individuals and cultures have different beliefs and perspectives on the meaning of life. Some believe that the meaning of life is to seek happiness and fulfillment, others believe it is to serve others and make a positive impact on the world, while some believe that the meaning of life is defined by religious beliefs and principles. Ultimately, the meaning of life is a subjective and personal belief that each individual must discover for themselves.'"
      ]
     },
     "execution_count": 43,
     "metadata": {},
     "output_type": "execute_result"
    }
   ],
   "source": [
    "main()"
   ]
  },
  {
   "cell_type": "code",
   "execution_count": 34,
   "metadata": {},
   "outputs": [
    {
     "data": {
      "text/plain": [
       "'The meaning of life is a philosophical question that has intrigued humans for centuries. Different people and cultures have different beliefs about the purpose and meaning of life. Some believe it is to seek happiness and fulfillment, others believe it is to follow a certain religious or spiritual path, while others believe it is simply to exist and experience the world around us. Ultimately, the meaning of life is subjective and can be interpreted in many different ways.'"
      ]
     },
     "execution_count": 34,
     "metadata": {},
     "output_type": "execute_result"
    }
   ],
   "source": [
    "main(session_id=\"testing\")"
   ]
  },
  {
   "cell_type": "code",
   "execution_count": 35,
   "metadata": {},
   "outputs": [
    {
     "data": {
      "text/plain": [
       "'The meaning of life is a philosophical and existential question that has been debated for centuries. It is a question that has no definitive answer and can vary depending on individual beliefs, values, and perspectives. Some people believe that the meaning of life is to seek happiness and fulfillment, others see it as finding purpose and meaning through personal or spiritual growth, while some believe that life has no inherent meaning and it is up to each individual to create their own meaning. Ultimately, the meaning of life is a subjective and deeply personal question that each individual must grapple with and find their own answer to.'"
      ]
     },
     "execution_count": 35,
     "metadata": {},
     "output_type": "execute_result"
    }
   ],
   "source": [
    "main(session_id=\"testing\", user_id=\"user_123\")"
   ]
  }
 ],
 "metadata": {
  "kernelspec": {
   "display_name": "Python 3 (ipykernel)",
   "language": "python",
   "name": "python3"
  },
  "language_info": {
   "codemirror_mode": {
    "name": "ipython",
    "version": 3
   },
   "file_extension": ".py",
   "mimetype": "text/x-python",
   "name": "python",
   "nbconvert_exporter": "python",
   "pygments_lexer": "ipython3",
   "version": "3.10.14"
  }
 },
 "nbformat": 4,
 "nbformat_minor": 4
}
